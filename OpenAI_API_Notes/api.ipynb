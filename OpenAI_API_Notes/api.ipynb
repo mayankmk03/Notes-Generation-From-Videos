{
 "cells": [
  {
   "cell_type": "code",
   "execution_count": 1,
   "metadata": {},
   "outputs": [
    {
     "name": "stdout",
     "output_type": "stream",
     "text": [
      "Collecting openai\n",
      "  Downloading openai-0.27.2-py3-none-any.whl (70 kB)\n",
      "     ---------------------------------------- 70.1/70.1 KB 3.7 MB/s eta 0:00:00\n",
      "Requirement already satisfied: tqdm in c:\\users\\vedashree joshi\\appdata\\local\\programs\\python\\python39\\lib\\site-packages (from openai) (4.64.1)\n",
      "Collecting aiohttp\n",
      "  Downloading aiohttp-3.8.4-cp39-cp39-win_amd64.whl (323 kB)\n",
      "     -------------------------------------- 323.6/323.6 KB 9.8 MB/s eta 0:00:00\n",
      "Requirement already satisfied: requests>=2.20 in c:\\users\\vedashree joshi\\appdata\\local\\programs\\python\\python39\\lib\\site-packages (from openai) (2.28.1)\n",
      "Requirement already satisfied: urllib3<1.27,>=1.21.1 in c:\\users\\vedashree joshi\\appdata\\local\\programs\\python\\python39\\lib\\site-packages (from requests>=2.20->openai) (1.26.13)\n",
      "Requirement already satisfied: certifi>=2017.4.17 in c:\\users\\vedashree joshi\\appdata\\local\\programs\\python\\python39\\lib\\site-packages (from requests>=2.20->openai) (2022.12.7)\n",
      "Requirement already satisfied: charset-normalizer<3,>=2 in c:\\users\\vedashree joshi\\appdata\\local\\programs\\python\\python39\\lib\\site-packages (from requests>=2.20->openai) (2.1.1)\n",
      "Requirement already satisfied: idna<4,>=2.5 in c:\\users\\vedashree joshi\\appdata\\local\\programs\\python\\python39\\lib\\site-packages (from requests>=2.20->openai) (3.3)\n",
      "Requirement already satisfied: attrs>=17.3.0 in c:\\users\\vedashree joshi\\appdata\\local\\programs\\python\\python39\\lib\\site-packages (from aiohttp->openai) (22.1.0)\n",
      "Collecting async-timeout<5.0,>=4.0.0a3\n",
      "  Downloading async_timeout-4.0.2-py3-none-any.whl (5.8 kB)\n",
      "Collecting frozenlist>=1.1.1\n",
      "  Downloading frozenlist-1.3.3-cp39-cp39-win_amd64.whl (34 kB)\n",
      "Collecting aiosignal>=1.1.2\n",
      "  Downloading aiosignal-1.3.1-py3-none-any.whl (7.6 kB)\n",
      "Collecting yarl<2.0,>=1.0\n",
      "  Downloading yarl-1.8.2-cp39-cp39-win_amd64.whl (56 kB)\n",
      "     ---------------------------------------- 56.8/56.8 KB ? eta 0:00:00\n",
      "Collecting multidict<7.0,>=4.5\n",
      "  Downloading multidict-6.0.4-cp39-cp39-win_amd64.whl (28 kB)\n",
      "Requirement already satisfied: colorama in c:\\users\\vedashree joshi\\appdata\\local\\programs\\python\\python39\\lib\\site-packages (from tqdm->openai) (0.4.5)\n",
      "Installing collected packages: multidict, frozenlist, async-timeout, yarl, aiosignal, aiohttp, openai\n",
      "Successfully installed aiohttp-3.8.4 aiosignal-1.3.1 async-timeout-4.0.2 frozenlist-1.3.3 multidict-6.0.4 openai-0.27.2 yarl-1.8.2\n"
     ]
    },
    {
     "name": "stderr",
     "output_type": "stream",
     "text": [
      "WARNING: You are using pip version 22.0.4; however, version 23.0.1 is available.\n",
      "You should consider upgrading via the 'C:\\Users\\Vedashree Joshi\\AppData\\Local\\Programs\\Python\\Python39\\python.exe -m pip install --upgrade pip' command.\n"
     ]
    }
   ],
   "source": [
    "!pip install openai"
   ]
  },
  {
   "cell_type": "code",
   "execution_count": 12,
   "metadata": {},
   "outputs": [
    {
     "name": "stdout",
     "output_type": "stream",
     "text": [
      " That dream about the dinosaur on the leotard, those times that you said that thing that you know you shouldn't have said, or even that thing you didn't even know you were gonna say. The little cogs of your consciousness cranking away, making your life possible, making society function all of the things that you're so glad you can do and all the ones you wish you could stop doing. Excluding other human minds, your mind is the most complicated piece of the universe that humans currently know about. The rules that govern it are mysterious and elusive. Maybe our brains just aren't complex enough to understand themselves, but that's not gonna stop us from trying. The word psychology comes from the Latin for the study of the soul, and while its formal definition has evolved over the last several decades, today we can safely call it the science of behavior and mental processes. The term psychology wasn't coined until around the turn of the 16th century, and a practice that we would actually call science today wasn't established until the mid-1800s. But of course, humans have always been curious about themselves and what's going on up here. Aristotle pondered the seed of human consciousness and decided that it was in the heart, not the head, being as we have seen quite a lot here on Crash Course, absolutely and completely wrong. 2000 years ago, Chinese rulers conducted the world's first psychological exams requiring public officials to take personality and intelligence tests. And in the late 800s, Persian Dr. Muhammad Ibn Zakaria Al-Razi, also known as Razi's, was one of the first to describe mental illness and even treated patients in what was essentially a very early psych ward in his Baghdad hospital. From the efforts of those early thinkers up until today, the field of psychology has been all about tackling some of the big questions. How can humans do horrible things like commit genocide and torture other humans and how come we know those things are horrible? Do we have free will or are we simply driven by our environment, biology and non-conscious influences? What is mental illness and what can we do about it? And what is consciousness or the notion of self? If I lose my awareness of myself am I still human? I don't know! Whatever the next six months, these are the questions that we're going to be exploring together. How our brains work, how they can break, how they can be healed, why we behave the way we do even when we don't want to, and what it means to be thinking and feeling and alive. When hearing the word psychology, most people probably think of a therapist listening to a patient unpacking the details of his day while reclining on a couch. Maybe that therapist is wearing glasses, chewing on a cigar, stroking his whisk or gin, admit it! If you're thinking about psychology, you're probably picturing Freud. Sigmund Freud was one of the most tremendously influential and controversial thinkers of his time, maybe of all time. His theories help build our views on childhood, personality, dreams and sexuality, and his work fueled legacy of both support and opposition. His life was long and spend an important swath of history from the American Civil War to World War II. Like most great scientists, Freud developed his revolutionary ideas by building on the work of others, and of course, innovation in the field didn't stop with him. In truth, psychology is one of the most wildly diverse sciences in terms of the questions it proposes, the methods it applies, and the different schools of thought and disciplines it contains. Perhaps more than any other science psychology is just a big ol' integrated melting pot. For instance, right around Freud's time, there were a lot of different schools thought about how the study of the human mind should be tackled. Mainly, there were the ideas of structuralism, functionalism, and psychoanalysis. Scientific psychology got its start in 1879 in Germany when physician Wilhelm Wund set up the first psychology laboratory at the University of Leipzig just a few years after publishing his principles of physiological psychology, considered the first true psychology textbook. Wund and his student Edward Bradford Titchner took cues from chemists and physicists and argued that if those people could break down all matter into simple elements or structures, why couldn't they do the same for the brain? They tried to understand the structures of consciousness by getting patients to look inward, asking them how they felt when they watched a sunset, or smelled a coffee, or licked a kitten, or whatever. Titchner named this approach structuralism, but despite its rigid sounding name, it really relied so much on introspection that it became too subjective. I mean, you make sense and feel something different than I do even if we lick the same kitten. Psychologists, of course, can't actually observe a patient's inner thoughts or feeling so ultimately the structuralist school of thought is fairly short lived. By contrast, American physician and philosopher William James proposed a different set of questions focusing on why we think and feel and smell and lick, whatever. Basically, he focused on the function of behavior. This approach, functionalism, was inspired by Charles Darwin's idea that adaptive behaviors are conserved throughout the evolutionary process. James published his Seminole book The Principles of Psychology in 1890, defining psychology as the science of mental life. Just as Freud was starting to flex his big brain. Sigmund Freud began his medical career at a Viennese hospital, but in 1886, he started his own practice specializing in nervous disorders. During this time, Freud witnessed his colleague, Yosef Breuer, treat a patient called Anna O, with a new talking cure. Basically, it does let her talk about her symptoms. The more she talked and pulled up traumatic memories, the more her symptoms were reduced. It was a breakthrough, and it changed Freud forever. From then on, Freud encouraged his patients to talk freely about whatever came to mind, to free associate. This technique provided the basis for his career and an entire branch of psychology. In 1900, he published his book The Interpretation of Dreams, where he introduced his theory of psychoanalysis. Now, you probably think of psychoanalysis as a treatment, the whole patient on the couch scenario, and that's definitely part of it. But Freud's concept was actually a lot more complex than that, and it was revolutionary. The radical kernel of psychoanalysis was the theory that our personalities are shaped by unconscious motives. Basically, Freud suggested that we're all profoundly affected by mental processes that we're not even aware of. Now, that sounds almost obvious to us now, but part of the genius of Freud's theory was that in 1900, it wasn't obvious at all. The idea that our minds could be driven by something that our minds themselves didn't know about was hard to grasp, as hard as, like, maybe organisms evolving by natural selection. It was abstract, invisible, and there was something about it that seemed irrational. The other important part of Freud's theory was that the subconscious, literally the thing below consciousness, was still discoverable. Even though you weren't aware of it, you could come to understand it through a therapeutic technique that used dreams, projections, and free association to root out repressed feelings and gain self-insight. So what Freud was really saying was that mental disorders could be healed through talk therapy and self-discovery. And this was a really big breakthrough. Because prior to this, people with mental illnesses would be confined to sanatoriums and at best given menial labor to do, and at worst, shackled to a bed frame. After the interpretation of dreams, Freud went on to publish over 20 more books and countless papers with an iconic cigar and hand all the while. He believed smoking helped him think, but it also helped him get jaw cancer. During the last 16 years of his life, he underwent at least 30 painful operations, while continuing to smoke. By the late 1930s, the Nazis had taken over Austria and Freud and his Jewish family narrowly escaped to England. By September 1939, the pain in his cancerous jaw was too great, and a doctor friend assisted him in suicide through morphine injection. He was 83. Whether you love him or hate him and make no mistake, plenty of people vehemently disagreed with him. There is no question that Freud's impact on psychology was monumental. While competing theories in the young field of psychology either fell away or evolved into something else, psychoanalysis remains an important concept and practiced today. The next big shakeup rolled in during the first half of the 20th century when behaviorism gained a higher profile. Heavy hitters like Ivan Pavlov, John B. Watson, and B.F. Skinner were key players here. They focused on the study of observable behavior. You may remember Skinner, as the dude who put rats and pigeons and babies in boxes and conditioned them to perform certain behaviors right around when Freud escaped to England, Skinner published his behavior of organisms, ushering in the era of behaviorism, which remained all the rage well in the 1960s. The other major force at the time was, of course, Freud's psychoanalysis, and its many descendants collectively known as the psychodynamic theories. These focused on the importance of early experiences in shaping the unconsciousness and how that process affects our thoughts, feelings, behaviors, and personalities. In the mid-20th century, other major forces in psychology were also brewing schools will explore later in this course, including humanist psychology, which focuses on nurturing personal growth, cognitive science, and neuroscience, all of which contributed their own unique takes on the study of mind. Today's formal definition of psychology, the study of behavior in mental processes, is a nice amalgamation that pulls from all these different schools of thought. It recognizes the need for observing and recording behavior, that that's screaming, crying, or playing air saxophone to an imaginary audience, but it also gives credit to our mental processes, what we think and feel and believe while we're tearing it up on our invisible instruments. Because again, the point that I really want you to take home is that psychology is an integrative science. Yes, folks still get grumpy and disagree-plenty, but the essence of the discipline has everything to do with creating different ways of asking interesting questions and attempting to answer them through all kinds of data-gathering methods. The human mind is complicated. There is no single way to effectively crack it open. It must be prideth from all sides. Harvard astronomer Owen Gingrich has gazed into the distant horizons of space, and even he has acknowledged that the human brain is by far the most complex physical object known to us in the entire cosmos. And we all get to have one of our very own, not gonna round right up in here. We here at Crash Course are really excited to spend the next several months delving into the world of psychology, how it applies to our lives, our minds and our hearts, and how it deepens our understanding of each other, our world, and ourselves. Thanks for watching this first lesson in Crash Course Psychology, and I'd like to especially thank all of our subibblest subscribers without whom we would literally not be able to do this. Would you like a personalized signed Crash Course chemistry periodic table, or even to see yourself animated in one of our episodes? To find out about these and other perks, go to subibbl.com slash Crash Course. And thanks to our crew, this episode was written by Kathleen Yale and edited by Blake T. Pastino, our psychology consultant, Dr. Ranjit Bhagwat, our director and editor is Nicholas Jenkins, the script supervisor who is Michael LaRonda, who is also our sound designer, and our graphics team is Thought Cafe.\n"
     ]
    }
   ],
   "source": [
    "prompttext=\"\"\n",
    "with open('transcript.txt', 'r') as f:\n",
    "     prompttext=f.read()\n",
    "print(prompttext)"
   ]
  },
  {
   "cell_type": "code",
   "execution_count": 44,
   "metadata": {},
   "outputs": [],
   "source": [
    "import os\n",
    "import openai\n",
    "\n",
    "openai.api_key_path=\"api_key.txt\"\n",
    "\n",
    "response = openai.Completion.create(\n",
    "  model=\"text-davinci-003\",\n",
    "  prompt=\"What are the lecture notes with the top five topics and subtopics and their descriptions for\"+prompttext+\"?\",\n",
    "  temperature=0.3,\n",
    "  max_tokens=400,\n",
    "  top_p=1.0,\n",
    "  frequency_penalty=0.0,\n",
    "  presence_penalty=0.0\n",
    ")"
   ]
  },
  {
   "cell_type": "code",
   "execution_count": 45,
   "metadata": {},
   "outputs": [
    {
     "data": {
      "text/plain": [
       "<OpenAIObject text_completion id=cmpl-6yL5Pj2ZPEKNLq49MR2z8MRAv4HzF at 0x1bba074e590> JSON: {\n",
       "  \"choices\": [\n",
       "    {\n",
       "      \"finish_reason\": \"stop\",\n",
       "      \"index\": 0,\n",
       "      \"logprobs\": null,\n",
       "      \"text\": \"\\n\\nTop Five Topics and Subtopics:\\n\\n1. Structuralism: This school of thought focused on understanding the structures of consciousness by getting patients to look inward and ask how they felt when presented with certain stimuli.\\n\\n2. Functionalism: This approach focused on the function of behavior, taking cues from Charles Darwin's idea that adaptive behaviors are conserved throughout the evolutionary process.\\n\\n3. Psychoanalysis: Sigmund Freud's revolutionary theory that our personalities are shaped by unconscious motives, and that mental disorders can be healed through talk therapy and self-discovery.\\n\\n4. Behaviorism: This school of thought focused on the study of observable behavior, and was popularized by Ivan Pavlov, John B. Watson, and B.F. Skinner.\\n\\n5. Modern Psychology: An amalgamation of different schools of thought, including humanist psychology, cognitive science, and neuroscience, which focus on understanding behavior and mental processes.\"\n",
       "    }\n",
       "  ],\n",
       "  \"created\": 1679838755,\n",
       "  \"id\": \"cmpl-6yL5Pj2ZPEKNLq49MR2z8MRAv4HzF\",\n",
       "  \"model\": \"text-davinci-003\",\n",
       "  \"object\": \"text_completion\",\n",
       "  \"usage\": {\n",
       "    \"completion_tokens\": 195,\n",
       "    \"prompt_tokens\": 2418,\n",
       "    \"total_tokens\": 2613\n",
       "  }\n",
       "}"
      ]
     },
     "execution_count": 45,
     "metadata": {},
     "output_type": "execute_result"
    }
   ],
   "source": [
    "response"
   ]
  },
  {
   "cell_type": "code",
   "execution_count": 46,
   "metadata": {},
   "outputs": [
    {
     "data": {
      "text/plain": [
       "\"\\n\\nTop Five Topics and Subtopics:\\n\\n1. Structuralism: This school of thought focused on understanding the structures of consciousness by getting patients to look inward and ask how they felt when presented with certain stimuli.\\n\\n2. Functionalism: This approach focused on the function of behavior, taking cues from Charles Darwin's idea that adaptive behaviors are conserved throughout the evolutionary process.\\n\\n3. Psychoanalysis: Sigmund Freud's revolutionary theory that our personalities are shaped by unconscious motives, and that mental disorders can be healed through talk therapy and self-discovery.\\n\\n4. Behaviorism: This school of thought focused on the study of observable behavior, and was popularized by Ivan Pavlov, John B. Watson, and B.F. Skinner.\\n\\n5. Modern Psychology: An amalgamation of different schools of thought, including humanist psychology, cognitive science, and neuroscience, which focus on understanding behavior and mental processes.\""
      ]
     },
     "execution_count": 46,
     "metadata": {},
     "output_type": "execute_result"
    }
   ],
   "source": [
    "response[\"choices\"][0][\"text\"]"
   ]
  },
  {
   "cell_type": "code",
   "execution_count": 47,
   "metadata": {},
   "outputs": [],
   "source": [
    "with open('notes.txt', 'w') as f:\n",
    "    f.write(response[\"choices\"][0][\"text\"])"
   ]
  },
  {
   "cell_type": "code",
   "execution_count": null,
   "metadata": {},
   "outputs": [],
   "source": []
  }
 ],
 "metadata": {
  "kernelspec": {
   "display_name": "Python 3",
   "language": "python",
   "name": "python3"
  },
  "language_info": {
   "codemirror_mode": {
    "name": "ipython",
    "version": 3
   },
   "file_extension": ".py",
   "mimetype": "text/x-python",
   "name": "python",
   "nbconvert_exporter": "python",
   "pygments_lexer": "ipython3",
   "version": "3.9.13"
  },
  "orig_nbformat": 4
 },
 "nbformat": 4,
 "nbformat_minor": 2
}
